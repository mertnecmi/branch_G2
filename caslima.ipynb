{
 "cells": [
  {
   "cell_type": "code",
   "execution_count": null,
   "metadata": {
    "vscode": {
     "languageId": "plaintext"
    }
   },
   "outputs": [],
   "source": [
    "class Musteri:\n",
    "    def __init__(self, ad, soyad, tc_kimlik, telefon):\n",
    "        self.ad = ad\n",
    "        self.soyad = soyad\n",
    "        self.tc_kimlik = tc_kimlik\n",
    "        self.telefon = telefon\n",
    "\n",
    "    def bilgi_goruntule(self):\n",
    "        print(f\"Müşteri Bilgileri:\\nAd: {self.ad}\\nSoyad: {self.soyad}\\nTC Kimlik No: {self.tc_kimlik}\\nTelefon: {self.telefon}\")\n",
    "\n",
    "class Hesap(Musteri):\n",
    "    def __init__(self, musteri, hesap_numarasi, bakiye):\n",
    "        super().__init__(self.ad, self.soyad, self.tc_kimlik, self.telefon)\n",
    "        self.musteri = musteri\n",
    "        self.hesap_numarasi = hesap_numarasi\n",
    "        self.bakiye = bakiye\n",
    "\n",
    "    def para_yatir(self, miktar):\n",
    "        self.bakiye += miktar\n",
    "        print(f\"{miktar} TL yatırıldı.{self.telefon} tel nolu musteri Güncel bakiye: {self.bakiye} TL\")\n",
    "\n",
    "    def para_cek(self, miktar):\n",
    "        if miktar > self.bakiye:\n",
    "            print(\"Yetersiz bakiye. İşlem gerçekleştirilemedi.\")\n",
    "        else:\n",
    "            self.bakiye -= miktar\n",
    "            print(f\"{miktar} TL çekildi. Güncel bakiye: {self.bakiye} TL\")\n",
    "\n",
    "    def bakiye_goruntule(self):\n",
    "        print(f\"Hesap Bakiyesi: {self.bakiye} TL\")\n",
    "\n"
   ]
  }
 ],
 "metadata": {
  "language_info": {
   "name": "python"
  }
 },
 "nbformat": 4,
 "nbformat_minor": 2
}
